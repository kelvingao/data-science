{
 "cells": [
  {
   "cell_type": "code",
   "execution_count": 2,
   "metadata": {},
   "outputs": [
    {
     "data": {
      "text/plain": [
       "40"
      ]
     },
     "execution_count": 2,
     "metadata": {},
     "output_type": "execute_result"
    }
   ],
   "source": [
    "40"
   ]
  },
  {
   "cell_type": "code",
   "execution_count": 3,
   "metadata": {
    "collapsed": true
   },
   "outputs": [],
   "source": [
    "import numpy as np"
   ]
  },
  {
   "cell_type": "code",
   "execution_count": 4,
   "metadata": {},
   "outputs": [
    {
     "data": {
      "text/plain": [
       "40"
      ]
     },
     "execution_count": 4,
     "metadata": {},
     "output_type": "execute_result"
    }
   ],
   "source": [
    "Out[1]"
   ]
  },
  {
   "cell_type": "code",
   "execution_count": 5,
   "metadata": {
    "collapsed": true
   },
   "outputs": [],
   "source": [
    "x= Out[1]"
   ]
  },
  {
   "cell_type": "code",
   "execution_count": 6,
   "metadata": {},
   "outputs": [
    {
     "data": {
      "text/plain": [
       "40"
      ]
     },
     "execution_count": 6,
     "metadata": {},
     "output_type": "execute_result"
    }
   ],
   "source": [
    "x"
   ]
  },
  {
   "cell_type": "code",
   "execution_count": 7,
   "metadata": {},
   "outputs": [
    {
     "data": {
      "text/plain": [
       "0.89399666360055785"
      ]
     },
     "execution_count": 7,
     "metadata": {},
     "output_type": "execute_result"
    }
   ],
   "source": [
    "# shift + tab : show params\n",
    "# tab : auto complete\n",
    "np.sin(90)"
   ]
  },
  {
   "cell_type": "code",
   "execution_count": 9,
   "metadata": {
    "collapsed": true
   },
   "outputs": [],
   "source": [
    "np.sin?"
   ]
  },
  {
   "cell_type": "code",
   "execution_count": 10,
   "metadata": {
    "collapsed": true
   },
   "outputs": [],
   "source": [
    "np.any??"
   ]
  },
  {
   "cell_type": "code",
   "execution_count": 11,
   "metadata": {},
   "outputs": [
    {
     "data": {
      "text/plain": [
       "'/Users/kgoh/python-workplace/Python Scientific Stack'"
      ]
     },
     "execution_count": 11,
     "metadata": {},
     "output_type": "execute_result"
    }
   ],
   "source": [
    "%pwd"
   ]
  },
  {
   "cell_type": "code",
   "execution_count": 15,
   "metadata": {},
   "outputs": [
    {
     "name": "stdout",
     "output_type": "stream",
     "text": [
      "-0.958924274663\n",
      "-0.958924274663\n",
      "-0.958924274663\n",
      "-0.958924274663\n",
      "-0.958924274663\n",
      "CPU times: user 1.01 ms, sys: 715 µs, total: 1.72 ms\n",
      "Wall time: 1.3 ms\n"
     ]
    }
   ],
   "source": [
    "%%time\n",
    "for i in range(5):\n",
    "    print(np.sin(5))"
   ]
  },
  {
   "cell_type": "code",
   "execution_count": 16,
   "metadata": {
    "collapsed": true
   },
   "outputs": [],
   "source": [
    "%magic"
   ]
  },
  {
   "cell_type": "code",
   "execution_count": 18,
   "metadata": {},
   "outputs": [
    {
     "name": "stdout",
     "output_type": "stream",
     "text": [
      "\u001b[1m\u001b[36m360Safe\u001b[m\u001b[m                     opendirectoryd.log.5\r\n",
      "\u001b[1m\u001b[36mAccounts\u001b[m\u001b[m                    opendirectoryd.log.6\r\n",
      "\u001b[1m\u001b[36mBluetooth\u001b[m\u001b[m                   opendirectoryd.log.7\r\n",
      "CDIS.custom                 opendirectoryd.log.8\r\n",
      "\u001b[1m\u001b[36mCoreCapture\u001b[m\u001b[m                 opendirectoryd.log.9\r\n",
      "\u001b[1m\u001b[36mDiagnosticMessages\u001b[m\u001b[m          \u001b[1m\u001b[36mpowermanagement\u001b[m\u001b[m\r\n",
      "SleepWakeStacks.bin         \u001b[1m\u001b[36mppp\u001b[m\u001b[m\r\n",
      "\u001b[1m\u001b[36mTunnelblick\u001b[m\u001b[m                 ppp.log\r\n",
      "accountpolicy.log           prl_disp_service_server.log\r\n",
      "accountpolicy.log.0.gz      \u001b[1m\u001b[36msa\u001b[m\u001b[m\r\n",
      "accountpolicy.log.1.gz      secinitd.log\r\n",
      "accountpolicy.log.2.gz      secinitd.log.0.gz\r\n",
      "accountpolicy.log.3.gz      secinitd.log.1.gz\r\n",
      "accountpolicy.log.4.gz      secinitd.log.2.gz\r\n",
      "accountpolicy.log.5.gz      system.log\r\n",
      "accountpolicy.log.6.gz      system.log.0.gz\r\n",
      "\u001b[1m\u001b[36mapache2\u001b[m\u001b[m                     system.log.1.gz\r\n",
      "\u001b[1m\u001b[36masl\u001b[m\u001b[m                         system.log.10.gz\r\n",
      "authd.log                   system.log.11.gz\r\n",
      "authd.log.0.gz              system.log.12.gz\r\n",
      "authd.log.1.gz              system.log.2.gz\r\n",
      "authd.log.2.gz              system.log.3.gz\r\n",
      "\u001b[1m\u001b[36mcom.apple.clouddocs.asl\u001b[m\u001b[m     system.log.4.gz\r\n",
      "\u001b[1m\u001b[36mcom.apple.revisiond\u001b[m\u001b[m         system.log.5.gz\r\n",
      "\u001b[1m\u001b[36mcom.apple.xpc.launchd\u001b[m\u001b[m       system.log.6.gz\r\n",
      "commerce.log                system.log.7.gz\r\n",
      "corecaptured.log            system.log.8.gz\r\n",
      "\u001b[1m\u001b[36mcups\u001b[m\u001b[m                        system.log.9.gz\r\n",
      "daily.out                   \u001b[1m\u001b[36mtimezone\u001b[m\u001b[m\r\n",
      "displaypolicyd.log          \u001b[1m\u001b[36muucp\u001b[m\u001b[m\r\n",
      "displaypolicyd.stdout.log   weekly.out\r\n",
      "\u001b[1m\u001b[36memond\u001b[m\u001b[m                       wifi.log\r\n",
      "\u001b[1m\u001b[36mfax\u001b[m\u001b[m                         wifi.log.0.bz2\r\n",
      "fsck_hfs.log                wifi.log.1.bz2\r\n",
      "install.log                 wifi.log.10.bz2\r\n",
      "\u001b[1m\u001b[36mmodule\u001b[m\u001b[m                      wifi.log.2.bz2\r\n",
      "monthly.out                 wifi.log.3.bz2\r\n",
      "opendirectoryd.log          wifi.log.4.bz2\r\n",
      "opendirectoryd.log.0        wifi.log.5.bz2\r\n",
      "opendirectoryd.log.1        wifi.log.6.bz2\r\n",
      "opendirectoryd.log.2        wifi.log.7.bz2\r\n",
      "opendirectoryd.log.3        wifi.log.8.bz2\r\n",
      "opendirectoryd.log.4        wifi.log.9.bz2\r\n"
     ]
    }
   ],
   "source": [
    "!ls /var/log"
   ]
  },
  {
   "cell_type": "code",
   "execution_count": 21,
   "metadata": {},
   "outputs": [
    {
     "name": "stdout",
     "output_type": "stream",
     "text": [
      "\u001b[1m\u001b[36m360Safe\u001b[m\u001b[m                     opendirectoryd.log.5\r\n",
      "\u001b[1m\u001b[36mAccounts\u001b[m\u001b[m                    opendirectoryd.log.6\r\n",
      "\u001b[1m\u001b[36mBluetooth\u001b[m\u001b[m                   opendirectoryd.log.7\r\n",
      "CDIS.custom                 opendirectoryd.log.8\r\n",
      "\u001b[1m\u001b[36mCoreCapture\u001b[m\u001b[m                 opendirectoryd.log.9\r\n",
      "\u001b[1m\u001b[36mDiagnosticMessages\u001b[m\u001b[m          \u001b[1m\u001b[36mpowermanagement\u001b[m\u001b[m\r\n",
      "SleepWakeStacks.bin         \u001b[1m\u001b[36mppp\u001b[m\u001b[m\r\n",
      "\u001b[1m\u001b[36mTunnelblick\u001b[m\u001b[m                 ppp.log\r\n",
      "accountpolicy.log           prl_disp_service_server.log\r\n",
      "accountpolicy.log.0.gz      \u001b[1m\u001b[36msa\u001b[m\u001b[m\r\n",
      "accountpolicy.log.1.gz      secinitd.log\r\n",
      "accountpolicy.log.2.gz      secinitd.log.0.gz\r\n",
      "accountpolicy.log.3.gz      secinitd.log.1.gz\r\n",
      "accountpolicy.log.4.gz      secinitd.log.2.gz\r\n",
      "accountpolicy.log.5.gz      system.log\r\n",
      "accountpolicy.log.6.gz      system.log.0.gz\r\n",
      "\u001b[1m\u001b[36mapache2\u001b[m\u001b[m                     system.log.1.gz\r\n",
      "\u001b[1m\u001b[36masl\u001b[m\u001b[m                         system.log.10.gz\r\n",
      "authd.log                   system.log.11.gz\r\n",
      "authd.log.0.gz              system.log.12.gz\r\n",
      "authd.log.1.gz              system.log.2.gz\r\n",
      "authd.log.2.gz              system.log.3.gz\r\n",
      "\u001b[1m\u001b[36mcom.apple.clouddocs.asl\u001b[m\u001b[m     system.log.4.gz\r\n",
      "\u001b[1m\u001b[36mcom.apple.revisiond\u001b[m\u001b[m         system.log.5.gz\r\n",
      "\u001b[1m\u001b[36mcom.apple.xpc.launchd\u001b[m\u001b[m       system.log.6.gz\r\n",
      "commerce.log                system.log.7.gz\r\n",
      "corecaptured.log            system.log.8.gz\r\n",
      "\u001b[1m\u001b[36mcups\u001b[m\u001b[m                        system.log.9.gz\r\n",
      "daily.out                   \u001b[1m\u001b[36mtimezone\u001b[m\u001b[m\r\n",
      "displaypolicyd.log          \u001b[1m\u001b[36muucp\u001b[m\u001b[m\r\n",
      "displaypolicyd.stdout.log   weekly.out\r\n",
      "\u001b[1m\u001b[36memond\u001b[m\u001b[m                       wifi.log\r\n",
      "\u001b[1m\u001b[36mfax\u001b[m\u001b[m                         wifi.log.0.bz2\r\n",
      "fsck_hfs.log                wifi.log.1.bz2\r\n",
      "install.log                 wifi.log.10.bz2\r\n",
      "\u001b[1m\u001b[36mmodule\u001b[m\u001b[m                      wifi.log.2.bz2\r\n",
      "monthly.out                 wifi.log.3.bz2\r\n",
      "opendirectoryd.log          wifi.log.4.bz2\r\n",
      "opendirectoryd.log.0        wifi.log.5.bz2\r\n",
      "opendirectoryd.log.1        wifi.log.6.bz2\r\n",
      "opendirectoryd.log.2        wifi.log.7.bz2\r\n",
      "opendirectoryd.log.3        wifi.log.8.bz2\r\n",
      "opendirectoryd.log.4        wifi.log.9.bz2\r\n"
     ]
    }
   ],
   "source": [
    "dir_name = '/var/log'\n",
    "!ls $dir_name"
   ]
  },
  {
   "cell_type": "code",
   "execution_count": 23,
   "metadata": {},
   "outputs": [
    {
     "name": "stdout",
     "output_type": "stream",
     "text": [
      "we have 86 files in /var/log\n"
     ]
    }
   ],
   "source": [
    "files = !ls /var/log\n",
    "print('we have {} files in {}'.format(len(files), dir_name))"
   ]
  },
  {
   "cell_type": "markdown",
   "metadata": {},
   "source": [
    "some text goes here\n",
    "* list \n",
    "* of\n",
    "* item\n",
    "# head 1\n",
    "## head 2\n",
    "[pandas](http://pandas.pydata.org) is awsome\n",
    "![](https://static.pexels.com/photos/54632/cat-animal-eyes-grey-54632.jpeg)\n",
    "Euler's identity is $e^{i\\pi}+1=0$"
   ]
  },
  {
   "cell_type": "markdown",
   "metadata": {},
   "source": [
    "# Learning Jupyter Notebook"
   ]
  },
  {
   "cell_type": "code",
   "execution_count": 24,
   "metadata": {},
   "outputs": [
    {
     "data": {
      "text/plain": [
       "'/var/log'"
      ]
     },
     "execution_count": 24,
     "metadata": {},
     "output_type": "execute_result"
    }
   ],
   "source": [
    "dir_name"
   ]
  },
  {
   "cell_type": "code",
   "execution_count": null,
   "metadata": {
    "collapsed": true
   },
   "outputs": [],
   "source": []
  }
 ],
 "metadata": {
  "kernelspec": {
   "display_name": "Python 3",
   "language": "python",
   "name": "python3"
  },
  "language_info": {
   "codemirror_mode": {
    "name": "ipython",
    "version": 3
   },
   "file_extension": ".py",
   "mimetype": "text/x-python",
   "name": "python",
   "nbconvert_exporter": "python",
   "pygments_lexer": "ipython3",
   "version": "3.6.1"
  }
 },
 "nbformat": 4,
 "nbformat_minor": 2
}
